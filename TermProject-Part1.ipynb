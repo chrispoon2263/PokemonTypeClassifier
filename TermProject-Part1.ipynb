{
 "cells": [
  {
   "cell_type": "markdown",
   "id": "98a570ee",
   "metadata": {},
   "source": [
    "# Term Project\n",
    "- Student Name: Christohper Poon\n",
    "- Student UT EID: cmp2263\n",
    "\n",
    "\n",
    "- Partner Name: Michael Thrash\n",
    "- Partner UT EID: mat5429"
   ]
  },
  {
   "cell_type": "code",
   "execution_count": 415,
   "id": "7f95cbdb",
   "metadata": {},
   "outputs": [],
   "source": [
    "from PIL import Image\n",
    "import pandas as pd\n",
    "import numpy as np\n",
    "import matplotlib.pyplot as plt\n",
    "import sklearn.metrics"
   ]
  },
  {
   "cell_type": "markdown",
   "id": "6c985485",
   "metadata": {},
   "source": [
    "# Research Question: \n",
    "- 1st Question: We want to classify a pokemon image and predict the what the pokemon's primary typing will be of the 18 different types\n",
    "    - We Expect the results to be better than 1/18 or 0.05 but not very high due to background pixel noise\n",
    "    \n",
    "    - for simplicity we only looked at primary typing and not dual typing of the pokemon\n",
    "    \n",
    "- 2nd Question: We want to classify an image and predict if the pokemon's image is a water type or not a water type\n",
    "    - We expect the results to be much higher since the classification only includes two different labels \n",
    "    \n",
    "- Classification will be evaulated on the Accuracy Score of corretly getting the pokemon's type"
   ]
  },
  {
   "cell_type": "markdown",
   "id": "ba384be2",
   "metadata": {},
   "source": [
    "#  DATASET and Images from Kaggle\n",
    "https://www.kaggle.com/datasets/vishalsubbiah/pokemon-images-and-types"
   ]
  },
  {
   "cell_type": "code",
   "execution_count": 416,
   "id": "5814704a",
   "metadata": {},
   "outputs": [
    {
     "data": {
      "text/html": [
       "<div>\n",
       "<style scoped>\n",
       "    .dataframe tbody tr th:only-of-type {\n",
       "        vertical-align: middle;\n",
       "    }\n",
       "\n",
       "    .dataframe tbody tr th {\n",
       "        vertical-align: top;\n",
       "    }\n",
       "\n",
       "    .dataframe thead th {\n",
       "        text-align: right;\n",
       "    }\n",
       "</style>\n",
       "<table border=\"1\" class=\"dataframe\">\n",
       "  <thead>\n",
       "    <tr style=\"text-align: right;\">\n",
       "      <th></th>\n",
       "      <th>Name</th>\n",
       "      <th>Type1</th>\n",
       "      <th>Type2</th>\n",
       "    </tr>\n",
       "  </thead>\n",
       "  <tbody>\n",
       "    <tr>\n",
       "      <th>0</th>\n",
       "      <td>bulbasaur</td>\n",
       "      <td>Grass</td>\n",
       "      <td>Poison</td>\n",
       "    </tr>\n",
       "    <tr>\n",
       "      <th>1</th>\n",
       "      <td>ivysaur</td>\n",
       "      <td>Grass</td>\n",
       "      <td>Poison</td>\n",
       "    </tr>\n",
       "    <tr>\n",
       "      <th>2</th>\n",
       "      <td>venusaur</td>\n",
       "      <td>Grass</td>\n",
       "      <td>Poison</td>\n",
       "    </tr>\n",
       "    <tr>\n",
       "      <th>3</th>\n",
       "      <td>charmander</td>\n",
       "      <td>Fire</td>\n",
       "      <td>NaN</td>\n",
       "    </tr>\n",
       "    <tr>\n",
       "      <th>4</th>\n",
       "      <td>charmeleon</td>\n",
       "      <td>Fire</td>\n",
       "      <td>NaN</td>\n",
       "    </tr>\n",
       "    <tr>\n",
       "      <th>...</th>\n",
       "      <td>...</td>\n",
       "      <td>...</td>\n",
       "      <td>...</td>\n",
       "    </tr>\n",
       "    <tr>\n",
       "      <th>804</th>\n",
       "      <td>stakataka</td>\n",
       "      <td>Rock</td>\n",
       "      <td>Steel</td>\n",
       "    </tr>\n",
       "    <tr>\n",
       "      <th>805</th>\n",
       "      <td>blacephalon</td>\n",
       "      <td>Fire</td>\n",
       "      <td>Ghost</td>\n",
       "    </tr>\n",
       "    <tr>\n",
       "      <th>806</th>\n",
       "      <td>zeraora</td>\n",
       "      <td>Electric</td>\n",
       "      <td>NaN</td>\n",
       "    </tr>\n",
       "    <tr>\n",
       "      <th>807</th>\n",
       "      <td>meltan</td>\n",
       "      <td>Steel</td>\n",
       "      <td>NaN</td>\n",
       "    </tr>\n",
       "    <tr>\n",
       "      <th>808</th>\n",
       "      <td>melmetal</td>\n",
       "      <td>Steel</td>\n",
       "      <td>NaN</td>\n",
       "    </tr>\n",
       "  </tbody>\n",
       "</table>\n",
       "<p>809 rows × 3 columns</p>\n",
       "</div>"
      ],
      "text/plain": [
       "            Name     Type1   Type2\n",
       "0      bulbasaur     Grass  Poison\n",
       "1        ivysaur     Grass  Poison\n",
       "2       venusaur     Grass  Poison\n",
       "3     charmander      Fire     NaN\n",
       "4     charmeleon      Fire     NaN\n",
       "..           ...       ...     ...\n",
       "804    stakataka      Rock   Steel\n",
       "805  blacephalon      Fire   Ghost\n",
       "806      zeraora  Electric     NaN\n",
       "807       meltan     Steel     NaN\n",
       "808     melmetal     Steel     NaN\n",
       "\n",
       "[809 rows x 3 columns]"
      ]
     },
     "execution_count": 416,
     "metadata": {},
     "output_type": "execute_result"
    }
   ],
   "source": [
    "df_pokemon = pd.read_csv('pokemon.csv')\n",
    "df_pokemon"
   ]
  },
  {
   "cell_type": "code",
   "execution_count": 417,
   "id": "27f8a6e7",
   "metadata": {},
   "outputs": [],
   "source": [
    "# Get rid of Nan values and convert type 2 to type 1 for all single types\n",
    "# index_df = df_pokemon.loc[df_pokemon['Type2'].isna()].index\n",
    "# df_pokemon['Type2'].iloc[index_df] = df_pokemon['Type1'].iloc[index_df]"
   ]
  },
  {
   "cell_type": "markdown",
   "id": "095dc209",
   "metadata": {},
   "source": [
    "# Exploring the dataset"
   ]
  },
  {
   "cell_type": "code",
   "execution_count": 418,
   "id": "dafa10df",
   "metadata": {},
   "outputs": [
    {
     "data": {
      "text/plain": [
       "Water       114\n",
       "Normal      105\n",
       "Grass        78\n",
       "Bug          72\n",
       "Fire         53\n",
       "Psychic      53\n",
       "Rock         46\n",
       "Electric     40\n",
       "Poison       34\n",
       "Ground       32\n",
       "Dark         29\n",
       "Fighting     29\n",
       "Ghost        27\n",
       "Dragon       27\n",
       "Steel        26\n",
       "Ice          23\n",
       "Fairy        18\n",
       "Flying        3\n",
       "Name: Type1, dtype: int64"
      ]
     },
     "execution_count": 418,
     "metadata": {},
     "output_type": "execute_result"
    }
   ],
   "source": [
    "value_count_list = df_pokemon['Type1'].value_counts()\n",
    "value_count_list"
   ]
  },
  {
   "cell_type": "code",
   "execution_count": 423,
   "id": "e8bd2cdf",
   "metadata": {},
   "outputs": [
    {
     "name": "stdout",
     "output_type": "stream",
     "text": [
      "Percent of water types: 14.09\n"
     ]
    }
   ],
   "source": [
    "num_water_types = value_count_list['Water']\n",
    "percent_of_water_types = round((num_water_types / value_count_list.sum()) * 100, 2)\n",
    "print('Percent of water types:', percent_of_water_types)"
   ]
  },
  {
   "cell_type": "code",
   "execution_count": 424,
   "id": "68c2c3ae",
   "metadata": {},
   "outputs": [
    {
     "data": {
      "image/png": "[encoded data removed]",
      "text/plain": [
       "<Figure size 576x288 with 1 Axes>"
      ]
     },
     "metadata": {
      "needs_background": "light"
     },
     "output_type": "display_data"
    }
   ],
   "source": [
    "# Frequency of Pokemon types by Type1\n",
    "colors = ['seagreen', 'tomato', 'deepskyblue', 'olive', 'tan', 'purple', \\\n",
    "          'yellow', 'brown', 'pink', 'maroon', 'orchid', 'darkgoldenrod', \\\n",
    "          'mediumpurple', 'lightblue', 'slateblue', 'black', 'silver', 'thistle']\n",
    "fig, ax = plt.subplots(figsize=(8,4))\n",
    "cnts, values, bars = ax.hist(df_pokemon['Type1'], edgecolor='k', bins=18)\n",
    "\n",
    "\n",
    "for i, (cnt, value, bar) in enumerate(zip(cnts, values, bars)):\n",
    "    bar.set_facecolor(colors[i % len(colors)])\n",
    "ax.set_title('Frequency of Pokemon by primary Type1')\n",
    "ax.set_xlabel('Pokemon Type')\n",
    "ax.set_ylabel('Frequency')\n",
    "ax.tick_params(labelrotation=90)"
   ]
  },
  {
   "cell_type": "markdown",
   "id": "501f5dbf",
   "metadata": {},
   "source": [
    "# Create X Feature vector\n",
    "- image representation into a vector"
   ]
  },
  {
   "cell_type": "code",
   "execution_count": 425,
   "id": "1117b5dc",
   "metadata": {},
   "outputs": [
    {
     "data": {
      "image/png": "[encoded data removed]",
      "text/plain": [
       "<PIL.Image.Image image mode=P size=120x120 at 0x7FAD2CD214C0>"
      ]
     },
     "execution_count": 425,
     "metadata": {},
     "output_type": "execute_result"
    }
   ],
   "source": [
    "pokemon_name = 'abra'\n",
    "im = Image.open('PokemonImages/'+pokemon_name+'.png')\n",
    "im = im.convert(mode='P')\n",
    "im"
   ]
  },
  {
   "cell_type": "code",
   "execution_count": 434,
   "id": "bc4819ba",
   "metadata": {
    "scrolled": true
   },
   "outputs": [
    {
     "data": {
      "text/html": [
       "<div>\n",
       "<style scoped>\n",
       "    .dataframe tbody tr th:only-of-type {\n",
       "        vertical-align: middle;\n",
       "    }\n",
       "\n",
       "    .dataframe tbody tr th {\n",
       "        vertical-align: top;\n",
       "    }\n",
       "\n",
       "    .dataframe thead th {\n",
       "        text-align: right;\n",
       "    }\n",
       "</style>\n",
       "<table border=\"1\" class=\"dataframe\">\n",
       "  <thead>\n",
       "    <tr style=\"text-align: right;\">\n",
       "      <th></th>\n",
       "      <th>0</th>\n",
       "      <th>1</th>\n",
       "      <th>2</th>\n",
       "      <th>3</th>\n",
       "      <th>4</th>\n",
       "      <th>5</th>\n",
       "      <th>6</th>\n",
       "      <th>7</th>\n",
       "      <th>8</th>\n",
       "      <th>9</th>\n",
       "      <th>...</th>\n",
       "      <th>14390</th>\n",
       "      <th>14391</th>\n",
       "      <th>14392</th>\n",
       "      <th>14393</th>\n",
       "      <th>14394</th>\n",
       "      <th>14395</th>\n",
       "      <th>14396</th>\n",
       "      <th>14397</th>\n",
       "      <th>14398</th>\n",
       "      <th>14399</th>\n",
       "    </tr>\n",
       "  </thead>\n",
       "  <tbody>\n",
       "    <tr>\n",
       "      <th>0</th>\n",
       "      <td>0</td>\n",
       "      <td>0</td>\n",
       "      <td>0</td>\n",
       "      <td>0</td>\n",
       "      <td>0</td>\n",
       "      <td>0</td>\n",
       "      <td>0</td>\n",
       "      <td>0</td>\n",
       "      <td>0</td>\n",
       "      <td>0</td>\n",
       "      <td>...</td>\n",
       "      <td>0</td>\n",
       "      <td>0</td>\n",
       "      <td>0</td>\n",
       "      <td>0</td>\n",
       "      <td>0</td>\n",
       "      <td>0</td>\n",
       "      <td>0</td>\n",
       "      <td>0</td>\n",
       "      <td>0</td>\n",
       "      <td>0</td>\n",
       "    </tr>\n",
       "  </tbody>\n",
       "</table>\n",
       "<p>1 rows × 14400 columns</p>\n",
       "</div>"
      ],
      "text/plain": [
       "   0      1      2      3      4      5      6      7      8      9      ...  \\\n",
       "0      0      0      0      0      0      0      0      0      0      0  ...   \n",
       "\n",
       "   14390  14391  14392  14393  14394  14395  14396  14397  14398  14399  \n",
       "0      0      0      0      0      0      0      0      0      0      0  \n",
       "\n",
       "[1 rows x 14400 columns]"
      ]
     },
     "execution_count": 434,
     "metadata": {},
     "output_type": "execute_result"
    }
   ],
   "source": [
    "abra_pixel = list(im.getdata())\n",
    "pd.DataFrame(abra_pixel).T"
   ]
  },
  {
   "cell_type": "code",
   "execution_count": 427,
   "id": "1d323a04",
   "metadata": {},
   "outputs": [],
   "source": [
    "def get_image(pokemon_name):\n",
    "    im = Image.open('PokemonImages/'+pokemon_name+'.png')\n",
    "    im = im.convert(mode='P')\n",
    "    pixels = list(im.getdata())\n",
    "    im.close()\n",
    "    return pd.DataFrame(pixels).T"
   ]
  },
  {
   "cell_type": "code",
   "execution_count": 428,
   "id": "b0d734f0",
   "metadata": {},
   "outputs": [
    {
     "data": {
      "text/html": [
       "<div>\n",
       "<style scoped>\n",
       "    .dataframe tbody tr th:only-of-type {\n",
       "        vertical-align: middle;\n",
       "    }\n",
       "\n",
       "    .dataframe tbody tr th {\n",
       "        vertical-align: top;\n",
       "    }\n",
       "\n",
       "    .dataframe thead th {\n",
       "        text-align: right;\n",
       "    }\n",
       "</style>\n",
       "<table border=\"1\" class=\"dataframe\">\n",
       "  <thead>\n",
       "    <tr style=\"text-align: right;\">\n",
       "      <th></th>\n",
       "      <th>0</th>\n",
       "      <th>1</th>\n",
       "      <th>2</th>\n",
       "      <th>3</th>\n",
       "      <th>4</th>\n",
       "      <th>5</th>\n",
       "      <th>6</th>\n",
       "      <th>7</th>\n",
       "      <th>8</th>\n",
       "      <th>9</th>\n",
       "      <th>...</th>\n",
       "      <th>14390</th>\n",
       "      <th>14391</th>\n",
       "      <th>14392</th>\n",
       "      <th>14393</th>\n",
       "      <th>14394</th>\n",
       "      <th>14395</th>\n",
       "      <th>14396</th>\n",
       "      <th>14397</th>\n",
       "      <th>14398</th>\n",
       "      <th>14399</th>\n",
       "    </tr>\n",
       "  </thead>\n",
       "  <tbody>\n",
       "    <tr>\n",
       "      <th>0</th>\n",
       "      <td>0</td>\n",
       "      <td>0</td>\n",
       "      <td>0</td>\n",
       "      <td>0</td>\n",
       "      <td>0</td>\n",
       "      <td>0</td>\n",
       "      <td>0</td>\n",
       "      <td>0</td>\n",
       "      <td>0</td>\n",
       "      <td>0</td>\n",
       "      <td>...</td>\n",
       "      <td>0</td>\n",
       "      <td>0</td>\n",
       "      <td>0</td>\n",
       "      <td>0</td>\n",
       "      <td>0</td>\n",
       "      <td>0</td>\n",
       "      <td>0</td>\n",
       "      <td>0</td>\n",
       "      <td>0</td>\n",
       "      <td>0</td>\n",
       "    </tr>\n",
       "    <tr>\n",
       "      <th>1</th>\n",
       "      <td>0</td>\n",
       "      <td>0</td>\n",
       "      <td>0</td>\n",
       "      <td>0</td>\n",
       "      <td>0</td>\n",
       "      <td>0</td>\n",
       "      <td>0</td>\n",
       "      <td>0</td>\n",
       "      <td>0</td>\n",
       "      <td>0</td>\n",
       "      <td>...</td>\n",
       "      <td>0</td>\n",
       "      <td>0</td>\n",
       "      <td>0</td>\n",
       "      <td>0</td>\n",
       "      <td>0</td>\n",
       "      <td>0</td>\n",
       "      <td>0</td>\n",
       "      <td>0</td>\n",
       "      <td>0</td>\n",
       "      <td>0</td>\n",
       "    </tr>\n",
       "    <tr>\n",
       "      <th>2</th>\n",
       "      <td>46</td>\n",
       "      <td>46</td>\n",
       "      <td>46</td>\n",
       "      <td>46</td>\n",
       "      <td>46</td>\n",
       "      <td>46</td>\n",
       "      <td>46</td>\n",
       "      <td>46</td>\n",
       "      <td>46</td>\n",
       "      <td>46</td>\n",
       "      <td>...</td>\n",
       "      <td>46</td>\n",
       "      <td>46</td>\n",
       "      <td>46</td>\n",
       "      <td>46</td>\n",
       "      <td>46</td>\n",
       "      <td>46</td>\n",
       "      <td>46</td>\n",
       "      <td>46</td>\n",
       "      <td>46</td>\n",
       "      <td>46</td>\n",
       "    </tr>\n",
       "    <tr>\n",
       "      <th>3</th>\n",
       "      <td>0</td>\n",
       "      <td>0</td>\n",
       "      <td>0</td>\n",
       "      <td>0</td>\n",
       "      <td>0</td>\n",
       "      <td>0</td>\n",
       "      <td>0</td>\n",
       "      <td>0</td>\n",
       "      <td>0</td>\n",
       "      <td>0</td>\n",
       "      <td>...</td>\n",
       "      <td>0</td>\n",
       "      <td>0</td>\n",
       "      <td>0</td>\n",
       "      <td>0</td>\n",
       "      <td>0</td>\n",
       "      <td>0</td>\n",
       "      <td>0</td>\n",
       "      <td>0</td>\n",
       "      <td>0</td>\n",
       "      <td>0</td>\n",
       "    </tr>\n",
       "    <tr>\n",
       "      <th>4</th>\n",
       "      <td>0</td>\n",
       "      <td>0</td>\n",
       "      <td>0</td>\n",
       "      <td>0</td>\n",
       "      <td>0</td>\n",
       "      <td>0</td>\n",
       "      <td>0</td>\n",
       "      <td>0</td>\n",
       "      <td>0</td>\n",
       "      <td>0</td>\n",
       "      <td>...</td>\n",
       "      <td>0</td>\n",
       "      <td>0</td>\n",
       "      <td>0</td>\n",
       "      <td>0</td>\n",
       "      <td>0</td>\n",
       "      <td>0</td>\n",
       "      <td>0</td>\n",
       "      <td>0</td>\n",
       "      <td>0</td>\n",
       "      <td>0</td>\n",
       "    </tr>\n",
       "    <tr>\n",
       "      <th>...</th>\n",
       "      <td>...</td>\n",
       "      <td>...</td>\n",
       "      <td>...</td>\n",
       "      <td>...</td>\n",
       "      <td>...</td>\n",
       "      <td>...</td>\n",
       "      <td>...</td>\n",
       "      <td>...</td>\n",
       "      <td>...</td>\n",
       "      <td>...</td>\n",
       "      <td>...</td>\n",
       "      <td>...</td>\n",
       "      <td>...</td>\n",
       "      <td>...</td>\n",
       "      <td>...</td>\n",
       "      <td>...</td>\n",
       "      <td>...</td>\n",
       "      <td>...</td>\n",
       "      <td>...</td>\n",
       "      <td>...</td>\n",
       "      <td>...</td>\n",
       "    </tr>\n",
       "    <tr>\n",
       "      <th>804</th>\n",
       "      <td>225</td>\n",
       "      <td>225</td>\n",
       "      <td>225</td>\n",
       "      <td>225</td>\n",
       "      <td>225</td>\n",
       "      <td>225</td>\n",
       "      <td>225</td>\n",
       "      <td>225</td>\n",
       "      <td>225</td>\n",
       "      <td>225</td>\n",
       "      <td>...</td>\n",
       "      <td>225</td>\n",
       "      <td>225</td>\n",
       "      <td>225</td>\n",
       "      <td>225</td>\n",
       "      <td>225</td>\n",
       "      <td>225</td>\n",
       "      <td>225</td>\n",
       "      <td>225</td>\n",
       "      <td>225</td>\n",
       "      <td>225</td>\n",
       "    </tr>\n",
       "    <tr>\n",
       "      <th>805</th>\n",
       "      <td>225</td>\n",
       "      <td>225</td>\n",
       "      <td>225</td>\n",
       "      <td>225</td>\n",
       "      <td>225</td>\n",
       "      <td>225</td>\n",
       "      <td>225</td>\n",
       "      <td>225</td>\n",
       "      <td>225</td>\n",
       "      <td>225</td>\n",
       "      <td>...</td>\n",
       "      <td>225</td>\n",
       "      <td>225</td>\n",
       "      <td>225</td>\n",
       "      <td>225</td>\n",
       "      <td>225</td>\n",
       "      <td>225</td>\n",
       "      <td>225</td>\n",
       "      <td>225</td>\n",
       "      <td>225</td>\n",
       "      <td>225</td>\n",
       "    </tr>\n",
       "    <tr>\n",
       "      <th>806</th>\n",
       "      <td>225</td>\n",
       "      <td>225</td>\n",
       "      <td>225</td>\n",
       "      <td>225</td>\n",
       "      <td>225</td>\n",
       "      <td>225</td>\n",
       "      <td>225</td>\n",
       "      <td>225</td>\n",
       "      <td>225</td>\n",
       "      <td>225</td>\n",
       "      <td>...</td>\n",
       "      <td>225</td>\n",
       "      <td>225</td>\n",
       "      <td>225</td>\n",
       "      <td>225</td>\n",
       "      <td>225</td>\n",
       "      <td>225</td>\n",
       "      <td>225</td>\n",
       "      <td>225</td>\n",
       "      <td>225</td>\n",
       "      <td>225</td>\n",
       "    </tr>\n",
       "    <tr>\n",
       "      <th>807</th>\n",
       "      <td>225</td>\n",
       "      <td>225</td>\n",
       "      <td>225</td>\n",
       "      <td>225</td>\n",
       "      <td>225</td>\n",
       "      <td>225</td>\n",
       "      <td>225</td>\n",
       "      <td>225</td>\n",
       "      <td>225</td>\n",
       "      <td>225</td>\n",
       "      <td>...</td>\n",
       "      <td>225</td>\n",
       "      <td>225</td>\n",
       "      <td>225</td>\n",
       "      <td>225</td>\n",
       "      <td>225</td>\n",
       "      <td>225</td>\n",
       "      <td>225</td>\n",
       "      <td>225</td>\n",
       "      <td>225</td>\n",
       "      <td>225</td>\n",
       "    </tr>\n",
       "    <tr>\n",
       "      <th>808</th>\n",
       "      <td>225</td>\n",
       "      <td>225</td>\n",
       "      <td>225</td>\n",
       "      <td>225</td>\n",
       "      <td>225</td>\n",
       "      <td>225</td>\n",
       "      <td>225</td>\n",
       "      <td>225</td>\n",
       "      <td>225</td>\n",
       "      <td>225</td>\n",
       "      <td>...</td>\n",
       "      <td>225</td>\n",
       "      <td>225</td>\n",
       "      <td>225</td>\n",
       "      <td>225</td>\n",
       "      <td>225</td>\n",
       "      <td>225</td>\n",
       "      <td>225</td>\n",
       "      <td>225</td>\n",
       "      <td>225</td>\n",
       "      <td>225</td>\n",
       "    </tr>\n",
       "  </tbody>\n",
       "</table>\n",
       "<p>809 rows × 14400 columns</p>\n",
       "</div>"
      ],
      "text/plain": [
       "     0      1      2      3      4      5      6      7      8      9      \\\n",
       "0        0      0      0      0      0      0      0      0      0      0   \n",
       "1        0      0      0      0      0      0      0      0      0      0   \n",
       "2       46     46     46     46     46     46     46     46     46     46   \n",
       "3        0      0      0      0      0      0      0      0      0      0   \n",
       "4        0      0      0      0      0      0      0      0      0      0   \n",
       "..     ...    ...    ...    ...    ...    ...    ...    ...    ...    ...   \n",
       "804    225    225    225    225    225    225    225    225    225    225   \n",
       "805    225    225    225    225    225    225    225    225    225    225   \n",
       "806    225    225    225    225    225    225    225    225    225    225   \n",
       "807    225    225    225    225    225    225    225    225    225    225   \n",
       "808    225    225    225    225    225    225    225    225    225    225   \n",
       "\n",
       "     ...  14390  14391  14392  14393  14394  14395  14396  14397  14398  14399  \n",
       "0    ...      0      0      0      0      0      0      0      0      0      0  \n",
       "1    ...      0      0      0      0      0      0      0      0      0      0  \n",
       "2    ...     46     46     46     46     46     46     46     46     46     46  \n",
       "3    ...      0      0      0      0      0      0      0      0      0      0  \n",
       "4    ...      0      0      0      0      0      0      0      0      0      0  \n",
       "..   ...    ...    ...    ...    ...    ...    ...    ...    ...    ...    ...  \n",
       "804  ...    225    225    225    225    225    225    225    225    225    225  \n",
       "805  ...    225    225    225    225    225    225    225    225    225    225  \n",
       "806  ...    225    225    225    225    225    225    225    225    225    225  \n",
       "807  ...    225    225    225    225    225    225    225    225    225    225  \n",
       "808  ...    225    225    225    225    225    225    225    225    225    225  \n",
       "\n",
       "[809 rows x 14400 columns]"
      ]
     },
     "execution_count": 428,
     "metadata": {},
     "output_type": "execute_result"
    }
   ],
   "source": [
    "df_X = pd.DataFrame()\n",
    "\n",
    "for p_index, row in df_pokemon.iterrows():\n",
    "    pokemon_name = df_pokemon.at[p_index,'Name']\n",
    "    pixel_df = get_image(pokemon_name)\n",
    "    df_X = pd.concat([df_X, pixel_df], ignore_index=True)\n",
    "df_X"
   ]
  },
  {
   "cell_type": "markdown",
   "id": "a16bc531",
   "metadata": {},
   "source": [
    "# y1 label: Type 1 all 18 types"
   ]
  },
  {
   "cell_type": "code",
   "execution_count": 438,
   "id": "47ca298a",
   "metadata": {},
   "outputs": [],
   "source": [
    "# Takes in a pokemon data frame with column ['Type'] \n",
    "# Returns a two dictionaries from data frame \n",
    "# dictionary 1: {Grass: 0, Fire: 1, Water: 2 ... }\n",
    "# dictionary 2: {0: Grass, 1: Fire, 2: Water ... }\n",
    "def create_type_dict(df_data):\n",
    "    s_typings = pd.Series(df_data['Type1'].unique())\n",
    "    list_types = s_typings.values\n",
    "    list_num_types = np.arange(len(list_types))\n",
    "    dict_typing = dict(zip(list_types,list_num_types))\n",
    "    num_typing = dict(zip(list_num_types, list_types))\n",
    "    return dict_typing, num_typing"
   ]
  },
  {
   "cell_type": "code",
   "execution_count": 437,
   "id": "03365254",
   "metadata": {},
   "outputs": [],
   "source": [
    "# take a string pokemon type and convert to a num\n",
    "# used for an apply function in a dataframe\n",
    "def change_type_to_num(string_type):\n",
    "    return dict_typing[string_type]"
   ]
  },
  {
   "cell_type": "code",
   "execution_count": 436,
   "id": "9e821862",
   "metadata": {},
   "outputs": [],
   "source": [
    "# take a num pokemon type and convert to the equivalent string\n",
    "# used for an apply function in a dataframe\n",
    "def num_to_type(num):\n",
    "    return num_typing[num]"
   ]
  },
  {
   "cell_type": "code",
   "execution_count": 435,
   "id": "0933581b",
   "metadata": {},
   "outputs": [
    {
     "data": {
      "text/plain": [
       "{'Grass': 0,\n",
       " 'Fire': 1,\n",
       " 'Water': 2,\n",
       " 'Bug': 3,\n",
       " 'Normal': 4,\n",
       " 'Poison': 5,\n",
       " 'Electric': 6,\n",
       " 'Ground': 7,\n",
       " 'Fairy': 8,\n",
       " 'Fighting': 9,\n",
       " 'Psychic': 10,\n",
       " 'Rock': 11,\n",
       " 'Ghost': 12,\n",
       " 'Ice': 13,\n",
       " 'Dragon': 14,\n",
       " 'Dark': 15,\n",
       " 'Steel': 16,\n",
       " 'Flying': 17}"
      ]
     },
     "execution_count": 435,
     "metadata": {},
     "output_type": "execute_result"
    }
   ],
   "source": [
    "dict_typing, num_typing = create_type_dict(df_pokemon)\n",
    "dict_typing"
   ]
  },
  {
   "cell_type": "code",
   "execution_count": 429,
   "id": "9ab25495",
   "metadata": {},
   "outputs": [
    {
     "data": {
      "text/plain": [
       "0       0\n",
       "1       0\n",
       "2       0\n",
       "3       1\n",
       "4       1\n",
       "       ..\n",
       "804    11\n",
       "805     1\n",
       "806     6\n",
       "807    16\n",
       "808    16\n",
       "Name: Type1, Length: 809, dtype: int64"
      ]
     },
     "execution_count": 429,
     "metadata": {},
     "output_type": "execute_result"
    }
   ],
   "source": [
    "y1 = pd.Series(df_pokemon['Type1'])\n",
    "y1 = y1.apply(change_type_to_num)\n",
    "y1"
   ]
  },
  {
   "cell_type": "markdown",
   "id": "bfbded0a",
   "metadata": {},
   "source": [
    "# y2 label: Water 1 and everything else 0"
   ]
  },
  {
   "cell_type": "code",
   "execution_count": 430,
   "id": "e056ef39",
   "metadata": {},
   "outputs": [],
   "source": [
    "def change_water_to_one_coder(string_type):\n",
    "    if string_type == 'Water':\n",
    "        return 1\n",
    "    else:\n",
    "        return 0"
   ]
  },
  {
   "cell_type": "code",
   "execution_count": 431,
   "id": "bf140d8c",
   "metadata": {},
   "outputs": [
    {
     "data": {
      "text/plain": [
       "<bound method NDFrame.head of 0      0\n",
       "1      0\n",
       "2      0\n",
       "3      0\n",
       "4      0\n",
       "      ..\n",
       "804    0\n",
       "805    0\n",
       "806    0\n",
       "807    0\n",
       "808    0\n",
       "Name: Type1, Length: 809, dtype: int64>"
      ]
     },
     "execution_count": 431,
     "metadata": {},
     "output_type": "execute_result"
    }
   ],
   "source": [
    "y2 = pd.Series(df_pokemon['Type1'])\n",
    "y2 = y2.apply(change_water_to_one_coder)\n",
    "y2.head"
   ]
  },
  {
   "cell_type": "markdown",
   "id": "3fcdeff3",
   "metadata": {},
   "source": [
    "# All 18 Labels AdaBoost Classifier"
   ]
  },
  {
   "cell_type": "code",
   "execution_count": 390,
   "id": "48c0723b",
   "metadata": {},
   "outputs": [
    {
     "name": "stdout",
     "output_type": "stream",
     "text": [
      "0.19753086419753085\n"
     ]
    }
   ],
   "source": [
    "from sklearn.model_selection import train_test_split\n",
    "from sklearn.ensemble import AdaBoostClassifier\n",
    "\n",
    "X_train, X_test, y_train, y_test  = train_test_split(df_X, y1, test_size=0.2, random_state=123)\n",
    "\n",
    "model = AdaBoostClassifier()\n",
    "model.fit(X_train, y_train)\n",
    "y_pred = model.predict(X_test)\n",
    "\n",
    "\n",
    "precise_accuracy = np.sum(y_pred == y_test) / len(y_pred)\n",
    "print(precise_accuracy)"
   ]
  },
  {
   "cell_type": "markdown",
   "id": "69b57d5a",
   "metadata": {},
   "source": [
    "# AdaBoost with 80/20 split on Water 1/0"
   ]
  },
  {
   "cell_type": "code",
   "execution_count": 391,
   "id": "e7e998f5",
   "metadata": {
    "scrolled": true
   },
   "outputs": [
    {
     "name": "stdout",
     "output_type": "stream",
     "text": [
      "              precision    recall  f1-score   support\n",
      "\n",
      "           0       0.84      0.96      0.89       136\n",
      "           1       0.14      0.04      0.06        26\n",
      "\n",
      "    accuracy                           0.81       162\n",
      "   macro avg       0.49      0.50      0.48       162\n",
      "weighted avg       0.73      0.81      0.76       162\n",
      "\n"
     ]
    }
   ],
   "source": [
    "from sklearn.model_selection import train_test_split\n",
    "from sklearn.metrics import accuracy_score\n",
    "from sklearn.metrics import classification_report\n",
    "from sklearn.ensemble import AdaBoostClassifier\n",
    "\n",
    "\n",
    "X_train, X_test, y_train, y_test  = train_test_split(df_X, y3, test_size=0.2, random_state=123)\n",
    "\n",
    "model = AdaBoostClassifier(n_estimators=50, learning_rate=1)\n",
    "model.fit(X_train, y_train)\n",
    "y_pred = model.predict(X_test)\n",
    "print(classification_report(y_test,y_pred))"
   ]
  },
  {
   "cell_type": "markdown",
   "id": "ecb656e5",
   "metadata": {},
   "source": [
    "# AdaBoost with StratifiedKFold Cross Validation on Water 1/0"
   ]
  },
  {
   "cell_type": "code",
   "execution_count": 392,
   "id": "d76b729a",
   "metadata": {},
   "outputs": [
    {
     "name": "stdout",
     "output_type": "stream",
     "text": [
      "K fold: 0\n",
      "Accuracy: 0.84\n",
      "K fold: 1\n",
      "Accuracy: 0.85\n",
      "K fold: 2\n",
      "Accuracy: 0.86\n",
      "K fold: 3\n",
      "Accuracy: 0.86\n",
      "K fold: 4\n",
      "Accuracy: 0.86\n",
      "K fold: 5\n",
      "Accuracy: 0.85\n",
      "K fold: 6\n",
      "Accuracy: 0.85\n",
      "K fold: 7\n",
      "Accuracy: 0.85\n",
      "K fold: 8\n",
      "Accuracy: 0.84\n",
      "K fold: 9\n",
      "Accuracy: 0.85\n",
      "\n",
      "Mean Accuracy: 0.85\n",
      "Standard Deviation: 0.01\n"
     ]
    }
   ],
   "source": [
    "from sklearn.model_selection import cross_val_score\n",
    "from sklearn.ensemble import AdaBoostClassifier\n",
    "from sklearn.model_selection import StratifiedKFold\n",
    "\n",
    "# Create model object\n",
    "model = AdaBoostClassifier(n_estimators=10, learning_rate=0.5)\n",
    "\n",
    "# Split data into 10 folds\n",
    "skf = StratifiedKFold(n_splits=10, random_state=123, shuffle=True)\n",
    "\n",
    "# Calculate accuracy\n",
    "n_scores = cross_val_score(model, df_X, y3, scoring='accuracy', cv=skf, n_jobs=-1)\n",
    "\n",
    "for k_fold, accuracy in enumerate(n_scores):\n",
    "    print('K fold:', round(k_fold, 2))\n",
    "    print('Accuracy:', round(accuracy, 2))\n",
    "\n",
    "print()\n",
    "print('Mean Accuracy:', round(np.mean(n_scores), 2))\n",
    "print('Standard Deviation:', round(np.std(n_scores), 2))"
   ]
  },
  {
   "cell_type": "markdown",
   "id": "80ff95b5",
   "metadata": {},
   "source": [
    "# References:\n",
    "https://archives.bulbagarden.net/wiki/Category:HOME_artwork"
   ]
  }
 ],
 "metadata": {
  "kernelspec": {
   "display_name": "Python 3 (ipykernel)",
   "language": "python",
   "name": "python3"
  },
  "language_info": {
   "codemirror_mode": {
    "name": "ipython",
    "version": 3
   },
   "file_extension": ".py",
   "mimetype": "text/x-python",
   "name": "python",
   "nbconvert_exporter": "python",
   "pygments_lexer": "ipython3",
   "version": "3.9.12"
  }
 },
 "nbformat": 4,
 "nbformat_minor": 5
}
